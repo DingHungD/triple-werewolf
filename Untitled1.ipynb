{
 "cells": [
  {
   "cell_type": "code",
   "execution_count": 1,
   "id": "d3079f5b-83e7-4cec-b4c4-2a96f6fc0e8c",
   "metadata": {},
   "outputs": [],
   "source": [
    "from util import data\n"
   ]
  },
  {
   "cell_type": "code",
   "execution_count": 4,
   "id": "bf1fb445-efc7-460c-8c20-81a4e737b42a",
   "metadata": {},
   "outputs": [],
   "source": [
    "action = '刀'\n",
    "start_time, end_time = '2023/01/01', '2025/01/01'\n",
    "tmp_df = data.get_action_df(action, start_time, end_time)\n",
    "\n",
    "include_sid = data.session_df[(data.session_df.date>=start_time)&(data.session_df.date<=end_time)].sid.values"
   ]
  },
  {
   "cell_type": "code",
   "execution_count": 24,
   "id": "c2c53b68-3bae-47be-8bac-1322c50423f9",
   "metadata": {},
   "outputs": [],
   "source": [
    "name = 'Jeff'\n"
   ]
  },
  {
   "cell_type": "code",
   "execution_count": 25,
   "id": "701c0ae2-48e6-4195-835c-bb99659eb7fd",
   "metadata": {},
   "outputs": [],
   "source": [
    "df = data.df\n",
    "_tmp_df = df[(df.name == name)&(df.date>=start_time)&(df.date<=end_time)].copy()"
   ]
  },
  {
   "cell_type": "code",
   "execution_count": 26,
   "id": "ceba0a95-6402-4760-a670-e5f506d64a49",
   "metadata": {},
   "outputs": [],
   "source": [
    "tmp_df = _tmp_df.value_counts('role')"
   ]
  },
  {
   "cell_type": "code",
   "execution_count": 28,
   "id": "909eca73-de1b-4a1f-b580-323da7bb18cd",
   "metadata": {},
   "outputs": [
    {
     "data": {
      "text/plain": [
       "7"
      ]
     },
     "execution_count": 28,
     "metadata": {},
     "output_type": "execute_result"
    }
   ],
   "source": [
    "tmp_df.sum()"
   ]
  },
  {
   "cell_type": "code",
   "execution_count": 19,
   "id": "81df773c-2729-407e-8d14-038d2cfda9a2",
   "metadata": {},
   "outputs": [
    {
     "data": {
      "text/plain": [
       "{'平民': 3, '女巫': 1, '守衛': 1, '小狼': 1, '石像鬼': 1}"
      ]
     },
     "execution_count": 19,
     "metadata": {},
     "output_type": "execute_result"
    }
   ],
   "source": [
    "tmp_df.to_dict()"
   ]
  },
  {
   "cell_type": "code",
   "execution_count": 20,
   "id": "45e9fecc-1487-44ff-95df-b211f45bd17c",
   "metadata": {},
   "outputs": [],
   "source": [
    "df = data.df\n",
    "_tmp_df = df[(df.name == name)&(df.date>=start_time)&(df.date<=end_time)].copy()\n",
    "tmp_df = _tmp_df.loc[:,'win'].value_counts()\n",
    "tmp_df = tmp_df.rename(index={True:'贏', False:'輸'})"
   ]
  },
  {
   "cell_type": "code",
   "execution_count": null,
   "id": "7cf21262-6424-4a74-ba67-7f639d32dd46",
   "metadata": {},
   "outputs": [],
   "source": []
  },
  {
   "cell_type": "code",
   "execution_count": 29,
   "id": "5056d157-7764-4b53-a776-473800592401",
   "metadata": {},
   "outputs": [],
   "source": [
    "tmp_df = data.get_personal_role_win_df(name, start_time, end_time).T"
   ]
  },
  {
   "cell_type": "code",
   "execution_count": 30,
   "id": "72d896aa-ac0a-43d4-bfe1-dba4d782f557",
   "metadata": {},
   "outputs": [
    {
     "data": {
      "text/html": [
       "<div>\n",
       "<style scoped>\n",
       "    .dataframe tbody tr th:only-of-type {\n",
       "        vertical-align: middle;\n",
       "    }\n",
       "\n",
       "    .dataframe tbody tr th {\n",
       "        vertical-align: top;\n",
       "    }\n",
       "\n",
       "    .dataframe thead th {\n",
       "        text-align: right;\n",
       "    }\n",
       "</style>\n",
       "<table border=\"1\" class=\"dataframe\">\n",
       "  <thead>\n",
       "    <tr style=\"text-align: right;\">\n",
       "      <th></th>\n",
       "      <th>win</th>\n",
       "    </tr>\n",
       "  </thead>\n",
       "  <tbody>\n",
       "    <tr>\n",
       "      <th>女巫</th>\n",
       "      <td>0.000000</td>\n",
       "    </tr>\n",
       "    <tr>\n",
       "      <th>守衛</th>\n",
       "      <td>0.000000</td>\n",
       "    </tr>\n",
       "    <tr>\n",
       "      <th>小狼</th>\n",
       "      <td>0.000000</td>\n",
       "    </tr>\n",
       "    <tr>\n",
       "      <th>平民</th>\n",
       "      <td>0.333333</td>\n",
       "    </tr>\n",
       "    <tr>\n",
       "      <th>石像鬼</th>\n",
       "      <td>0.000000</td>\n",
       "    </tr>\n",
       "  </tbody>\n",
       "</table>\n",
       "</div>"
      ],
      "text/plain": [
       "          win\n",
       "女巫   0.000000\n",
       "守衛   0.000000\n",
       "小狼   0.000000\n",
       "平民   0.333333\n",
       "石像鬼  0.000000"
      ]
     },
     "execution_count": 30,
     "metadata": {},
     "output_type": "execute_result"
    }
   ],
   "source": [
    "tmp_df"
   ]
  },
  {
   "cell_type": "code",
   "execution_count": 31,
   "id": "8a107500-8043-4323-bb5d-3d4489ec708e",
   "metadata": {},
   "outputs": [],
   "source": [
    "tmp_df = data.get_camp_sum_df(name, start_time, end_time)"
   ]
  },
  {
   "cell_type": "code",
   "execution_count": 34,
   "id": "d55829e4-a12a-4f72-a5be-2d35fbc987af",
   "metadata": {},
   "outputs": [
    {
     "data": {
      "text/plain": [
       "Index(['god', 'villager', 'wolf'], dtype='object')"
      ]
     },
     "execution_count": 34,
     "metadata": {},
     "output_type": "execute_result"
    }
   ],
   "source": [
    "tmp_df.index"
   ]
  },
  {
   "cell_type": "code",
   "execution_count": 33,
   "id": "9b0cd288-3cbd-440d-bbc6-4de60254368f",
   "metadata": {},
   "outputs": [
    {
     "data": {
      "text/plain": [
       "array([2, 3, 2], dtype=int64)"
      ]
     },
     "execution_count": 33,
     "metadata": {},
     "output_type": "execute_result"
    }
   ],
   "source": [
    "tmp_df.values"
   ]
  },
  {
   "cell_type": "code",
   "execution_count": 35,
   "id": "440cc061-7442-45f8-92b8-27a09157eb97",
   "metadata": {},
   "outputs": [],
   "source": [
    "tmp_df = data.get_camp_win_df(name, start_time, end_time)"
   ]
  },
  {
   "cell_type": "code",
   "execution_count": 37,
   "id": "2fad33e2-9907-414a-9eb7-1a55a5382d90",
   "metadata": {},
   "outputs": [
    {
     "data": {
      "text/html": [
       "<div>\n",
       "<style scoped>\n",
       "    .dataframe tbody tr th:only-of-type {\n",
       "        vertical-align: middle;\n",
       "    }\n",
       "\n",
       "    .dataframe tbody tr th {\n",
       "        vertical-align: top;\n",
       "    }\n",
       "\n",
       "    .dataframe thead th {\n",
       "        text-align: right;\n",
       "    }\n",
       "</style>\n",
       "<table border=\"1\" class=\"dataframe\">\n",
       "  <thead>\n",
       "    <tr style=\"text-align: right;\">\n",
       "      <th></th>\n",
       "      <th>win</th>\n",
       "    </tr>\n",
       "  </thead>\n",
       "  <tbody>\n",
       "    <tr>\n",
       "      <th>god</th>\n",
       "      <td>0.000000</td>\n",
       "    </tr>\n",
       "    <tr>\n",
       "      <th>villager</th>\n",
       "      <td>0.333333</td>\n",
       "    </tr>\n",
       "    <tr>\n",
       "      <th>wolf</th>\n",
       "      <td>0.000000</td>\n",
       "    </tr>\n",
       "  </tbody>\n",
       "</table>\n",
       "</div>"
      ],
      "text/plain": [
       "               win\n",
       "god       0.000000\n",
       "villager  0.333333\n",
       "wolf      0.000000"
      ]
     },
     "execution_count": 37,
     "metadata": {},
     "output_type": "execute_result"
    }
   ],
   "source": [
    "tmp_df.T"
   ]
  },
  {
   "cell_type": "code",
   "execution_count": null,
   "id": "12a71b8b-27ac-4e0a-953d-d6b4123de4ea",
   "metadata": {},
   "outputs": [],
   "source": []
  }
 ],
 "metadata": {
  "kernelspec": {
   "display_name": "Python 3 (ipykernel)",
   "language": "python",
   "name": "python3"
  },
  "language_info": {
   "codemirror_mode": {
    "name": "ipython",
    "version": 3
   },
   "file_extension": ".py",
   "mimetype": "text/x-python",
   "name": "python",
   "nbconvert_exporter": "python",
   "pygments_lexer": "ipython3",
   "version": "3.8.5"
  }
 },
 "nbformat": 4,
 "nbformat_minor": 5
}
