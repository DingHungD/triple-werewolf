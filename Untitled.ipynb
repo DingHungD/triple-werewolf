{
 "cells": [
  {
   "cell_type": "code",
   "execution_count": 2,
   "id": "15e37f85",
   "metadata": {},
   "outputs": [
    {
     "data": {
      "text/plain": [
       "1.154"
      ]
     },
     "execution_count": 2,
     "metadata": {},
     "output_type": "execute_result"
    }
   ],
   "source": [
    "round(1.154, 3)"
   ]
  },
  {
   "cell_type": "code",
   "execution_count": 5,
   "id": "095f9247",
   "metadata": {},
   "outputs": [],
   "source": [
    "from util import data\n",
    "start_time, end_time = '2023/01/01', '2024/12/31'\n",
    "tmp_df = data.get_seat_df(start_time, end_time)"
   ]
  },
  {
   "cell_type": "code",
   "execution_count": 8,
   "id": "182be592",
   "metadata": {},
   "outputs": [
    {
     "data": {
      "text/plain": [
       "['1', '2', '3', '4', '5', '6', '7', '8', '9', '10', '11', '12']"
      ]
     },
     "execution_count": 8,
     "metadata": {},
     "output_type": "execute_result"
    }
   ],
   "source": []
  },
  {
   "cell_type": "code",
   "execution_count": 9,
   "id": "1900c517",
   "metadata": {
    "scrolled": true
   },
   "outputs": [],
   "source": [
    "tmp_df2 = (tmp_df/tmp_df.sum()).T"
   ]
  },
  {
   "cell_type": "code",
   "execution_count": 11,
   "id": "0de0d589",
   "metadata": {
    "scrolled": true
   },
   "outputs": [
    {
     "data": {
      "text/plain": [
       "1     0.428571\n",
       "2     0.238095\n",
       "3     0.238095\n",
       "4     0.190476\n",
       "5     0.428571\n",
       "6     0.476190\n",
       "7     0.380952\n",
       "8     0.333333\n",
       "9     0.285714\n",
       "10    0.476190\n",
       "11    0.238095\n",
       "12    0.300000\n",
       "Name: god, dtype: float64"
      ]
     },
     "execution_count": 11,
     "metadata": {},
     "output_type": "execute_result"
    }
   ],
   "source": [
    "tmp_df2.god"
   ]
  },
  {
   "cell_type": "code",
   "execution_count": 12,
   "id": "243e413c",
   "metadata": {
    "scrolled": true
   },
   "outputs": [
    {
     "data": {
      "text/html": [
       "<div>\n",
       "<style scoped>\n",
       "    .dataframe tbody tr th:only-of-type {\n",
       "        vertical-align: middle;\n",
       "    }\n",
       "\n",
       "    .dataframe tbody tr th {\n",
       "        vertical-align: top;\n",
       "    }\n",
       "\n",
       "    .dataframe thead th {\n",
       "        text-align: right;\n",
       "    }\n",
       "</style>\n",
       "<table border=\"1\" class=\"dataframe\">\n",
       "  <thead>\n",
       "    <tr style=\"text-align: right;\">\n",
       "      <th></th>\n",
       "      <th>god</th>\n",
       "      <th>villager</th>\n",
       "      <th>wolf</th>\n",
       "    </tr>\n",
       "  </thead>\n",
       "  <tbody>\n",
       "    <tr>\n",
       "      <th>1</th>\n",
       "      <td>0.428571</td>\n",
       "      <td>0.142857</td>\n",
       "      <td>0.428571</td>\n",
       "    </tr>\n",
       "    <tr>\n",
       "      <th>2</th>\n",
       "      <td>0.238095</td>\n",
       "      <td>0.476190</td>\n",
       "      <td>0.285714</td>\n",
       "    </tr>\n",
       "    <tr>\n",
       "      <th>3</th>\n",
       "      <td>0.238095</td>\n",
       "      <td>0.285714</td>\n",
       "      <td>0.476190</td>\n",
       "    </tr>\n",
       "    <tr>\n",
       "      <th>4</th>\n",
       "      <td>0.190476</td>\n",
       "      <td>0.476190</td>\n",
       "      <td>0.333333</td>\n",
       "    </tr>\n",
       "    <tr>\n",
       "      <th>5</th>\n",
       "      <td>0.428571</td>\n",
       "      <td>0.238095</td>\n",
       "      <td>0.333333</td>\n",
       "    </tr>\n",
       "    <tr>\n",
       "      <th>6</th>\n",
       "      <td>0.476190</td>\n",
       "      <td>0.380952</td>\n",
       "      <td>0.142857</td>\n",
       "    </tr>\n",
       "    <tr>\n",
       "      <th>7</th>\n",
       "      <td>0.380952</td>\n",
       "      <td>0.333333</td>\n",
       "      <td>0.285714</td>\n",
       "    </tr>\n",
       "    <tr>\n",
       "      <th>8</th>\n",
       "      <td>0.333333</td>\n",
       "      <td>0.380952</td>\n",
       "      <td>0.285714</td>\n",
       "    </tr>\n",
       "    <tr>\n",
       "      <th>9</th>\n",
       "      <td>0.285714</td>\n",
       "      <td>0.380952</td>\n",
       "      <td>0.333333</td>\n",
       "    </tr>\n",
       "    <tr>\n",
       "      <th>10</th>\n",
       "      <td>0.476190</td>\n",
       "      <td>0.238095</td>\n",
       "      <td>0.285714</td>\n",
       "    </tr>\n",
       "    <tr>\n",
       "      <th>11</th>\n",
       "      <td>0.238095</td>\n",
       "      <td>0.285714</td>\n",
       "      <td>0.476190</td>\n",
       "    </tr>\n",
       "    <tr>\n",
       "      <th>12</th>\n",
       "      <td>0.300000</td>\n",
       "      <td>0.350000</td>\n",
       "      <td>0.350000</td>\n",
       "    </tr>\n",
       "  </tbody>\n",
       "</table>\n",
       "</div>"
      ],
      "text/plain": [
       "         god  villager      wolf\n",
       "1   0.428571  0.142857  0.428571\n",
       "2   0.238095  0.476190  0.285714\n",
       "3   0.238095  0.285714  0.476190\n",
       "4   0.190476  0.476190  0.333333\n",
       "5   0.428571  0.238095  0.333333\n",
       "6   0.476190  0.380952  0.142857\n",
       "7   0.380952  0.333333  0.285714\n",
       "8   0.333333  0.380952  0.285714\n",
       "9   0.285714  0.380952  0.333333\n",
       "10  0.476190  0.238095  0.285714\n",
       "11  0.238095  0.285714  0.476190\n",
       "12  0.300000  0.350000  0.350000"
      ]
     },
     "execution_count": 12,
     "metadata": {},
     "output_type": "execute_result"
    }
   ],
   "source": [
    "tmp_df2"
   ]
  },
  {
   "cell_type": "code",
   "execution_count": null,
   "id": "6ba52ed5",
   "metadata": {},
   "outputs": [],
   "source": [
    "(tmp_df/tmp_df.sum()).T.plot(y=['god', 'villager', 'wolf'], kind='barh', color = [COLORMAP[0], COLORMAP[1], COLORMAP[2]], stacked=True, ax=ax[ax_i])"
   ]
  }
 ],
 "metadata": {
  "kernelspec": {
   "display_name": "Python 3 (ipykernel)",
   "language": "python",
   "name": "python3"
  },
  "language_info": {
   "codemirror_mode": {
    "name": "ipython",
    "version": 3
   },
   "file_extension": ".py",
   "mimetype": "text/x-python",
   "name": "python",
   "nbconvert_exporter": "python",
   "pygments_lexer": "ipython3",
   "version": "3.11.8"
  }
 },
 "nbformat": 4,
 "nbformat_minor": 5
}
