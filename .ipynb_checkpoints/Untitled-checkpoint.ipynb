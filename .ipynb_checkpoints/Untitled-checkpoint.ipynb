{
 "cells": [
  {
   "cell_type": "code",
   "execution_count": 2,
   "id": "75077f6e",
   "metadata": {},
   "outputs": [
    {
     "data": {
      "text/plain": [
       "1.154"
      ]
     },
     "execution_count": 2,
     "metadata": {},
     "output_type": "execute_result"
    }
   ],
   "source": [
    "round(1.154, 3)"
   ]
  },
  {
   "cell_type": "code",
   "execution_count": 3,
   "id": "2ca86b75",
   "metadata": {},
   "outputs": [
    {
     "ename": "NameError",
     "evalue": "name 'start_time' is not defined",
     "output_type": "error",
     "traceback": [
      "\u001b[1;31m---------------------------------------------------------------------------\u001b[0m",
      "\u001b[1;31mNameError\u001b[0m                                 Traceback (most recent call last)",
      "Cell \u001b[1;32mIn[3], line 2\u001b[0m\n\u001b[0;32m      1\u001b[0m \u001b[38;5;28;01mfrom\u001b[39;00m \u001b[38;5;21;01mutil\u001b[39;00m \u001b[38;5;28;01mimport\u001b[39;00m data\n\u001b[1;32m----> 2\u001b[0m tmp_df \u001b[38;5;241m=\u001b[39m data\u001b[38;5;241m.\u001b[39mget_seat_df(\u001b[43mstart_time\u001b[49m, end_time)\n",
      "\u001b[1;31mNameError\u001b[0m: name 'start_time' is not defined"
     ]
    }
   ],
   "source": [
    "from util import data\n",
    "tmp_df = data.get_seat_df(start_time, end_time)"
   ]
  },
  {
   "cell_type": "code",
   "execution_count": null,
   "id": "65dccd77",
   "metadata": {},
   "outputs": [],
   "source": [
    "start_time, end_time = '2023/01/01', '2024/12/31'"
   ]
  },
  {
   "cell_type": "code",
   "execution_count": null,
   "id": "1733bedc",
   "metadata": {},
   "outputs": [],
   "source": [
    "tmp_df/tmp_df.sum()"
   ]
  },
  {
   "cell_type": "code",
   "execution_count": null,
   "id": "dcc7abf8",
   "metadata": {},
   "outputs": [],
   "source": [
    "(tmp_df/tmp_df.sum()).T.plot(y=['god', 'villager', 'wolf'], kind='barh', color = [COLORMAP[0], COLORMAP[1], COLORMAP[2]], stacked=True, ax=ax[ax_i])"
   ]
  }
 ],
 "metadata": {
  "kernelspec": {
   "display_name": "Python 3 (ipykernel)",
   "language": "python",
   "name": "python3"
  },
  "language_info": {
   "codemirror_mode": {
    "name": "ipython",
    "version": 3
   },
   "file_extension": ".py",
   "mimetype": "text/x-python",
   "name": "python",
   "nbconvert_exporter": "python",
   "pygments_lexer": "ipython3",
   "version": "3.11.8"
  }
 },
 "nbformat": 4,
 "nbformat_minor": 5
}
